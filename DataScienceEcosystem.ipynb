{
 "cells": [
  {
   "cell_type": "markdown",
   "id": "3e14ea36-d8a6-45e9-9a87-7a8fbb27b986",
   "metadata": {},
   "source": [
    "# Data Science Tools and Ecosystem"
   ]
  },
  {
   "cell_type": "markdown",
   "id": "ca1b6b8d-c946-44b7-9e6a-4ce95dd3ce66",
   "metadata": {
    "tags": []
   },
   "source": [
    "## Author\n",
    "Fataou Ouro-Bawinay"
   ]
  },
  {
   "cell_type": "markdown",
   "id": "8af39845-d74b-41de-aa98-463104bba63a",
   "metadata": {},
   "source": [
    "In this notebook, Data Science Tools and Ecosystem are summarized."
   ]
  },
  {
   "cell_type": "markdown",
   "id": "8a179954-9da6-4328-a2ac-bfd60a55025b",
   "metadata": {},
   "source": [
    "#### Objectives\n",
    "By the end of this notebook presentation, you will learn:\n",
    "* Some of the most popular languages used by Data Scientists today, such as Python, R, Julia, SQL, C/C++.\n",
    "* Some of the commonly used libraries by Data Scientists\n",
    "* Discover a few of the most popular opens source development environments for Data Science.\n",
    "* How to calculate arithmetic expressions in Jupyter Notebook\n",
    "* And how to share your notebook through GitHub."
   ]
  },
  {
   "cell_type": "markdown",
   "id": "b913df68-8980-4939-b56c-fa070ff586b4",
   "metadata": {},
   "source": [
    "Some of the popular languages that Data Scientists use are:\n",
    "1. Python\n",
    "2. R\n",
    "3. Julia"
   ]
  },
  {
   "cell_type": "markdown",
   "id": "cee1d700-d1e0-4e19-9ec2-c532274ed365",
   "metadata": {},
   "source": [
    "Some of the commonly used libraries used by Data Scientists include:\n",
    "1. NumPy\n",
    "2. Pandas\n",
    "3. Scikit-Learn\n",
    "4. Keras\n",
    "5. TensorFlow\n",
    "6. Matplotlib\n",
    "7. PyTorch"
   ]
  },
  {
   "cell_type": "markdown",
   "id": "a0f01a49-363b-4161-bf27-6819b466dbe2",
   "metadata": {},
   "source": [
    "Data Science Tools |\n",
    "-------------------|\n",
    "JupyterLab         |\n",
    "Spyder             |\n",
    "Visual Studio Code |\n"
   ]
  },
  {
   "cell_type": "markdown",
   "id": "2ce2ddd1-dab6-488e-9867-4a844d975b31",
   "metadata": {},
   "source": [
    "### Below are a few examples of evaluating arithmetic expressions in Python"
   ]
  },
  {
   "cell_type": "markdown",
   "id": "a86c279d-4763-4457-b957-767f7317fbe3",
   "metadata": {},
   "source": [
    "This a simple arithmetic expression to mutiply then add integers"
   ]
  },
  {
   "cell_type": "code",
   "execution_count": 3,
   "id": "f79d8488-2d40-4e13-b15a-ad9732bd46e4",
   "metadata": {
    "tags": []
   },
   "outputs": [
    {
     "data": {
      "text/plain": [
       "17"
      ]
     },
     "execution_count": 3,
     "metadata": {},
     "output_type": "execute_result"
    }
   ],
   "source": [
    "(3*4)+5"
   ]
  },
  {
   "cell_type": "markdown",
   "id": "16fe4eea-b704-4743-aa87-d016a9e3ac4f",
   "metadata": {},
   "source": [
    "The following example shows how one can convert 200 minutes into hours. Note: The output is expressed in hours."
   ]
  },
  {
   "cell_type": "code",
   "execution_count": 4,
   "id": "9fdf64b9-9d22-41b2-8da8-a2b42c0ebe70",
   "metadata": {
    "tags": []
   },
   "outputs": [
    {
     "data": {
      "text/plain": [
       "3.3333333333333335"
      ]
     },
     "execution_count": 4,
     "metadata": {},
     "output_type": "execute_result"
    }
   ],
   "source": [
    "200/60"
   ]
  },
  {
   "cell_type": "markdown",
   "id": "ebeb4185-b091-44ba-ad98-1859a75a7268",
   "metadata": {},
   "source": [
    "Result: 200 minutes = 3.3333333333333335 hours"
   ]
  },
  {
   "cell_type": "code",
   "execution_count": null,
   "id": "d2035a99-8639-49ce-a0c3-20c87b24138d",
   "metadata": {},
   "outputs": [],
   "source": []
  }
 ],
 "metadata": {
  "kernelspec": {
   "display_name": "Python",
   "language": "python",
   "name": "conda-env-python-py"
  },
  "language_info": {
   "codemirror_mode": {
    "name": "ipython",
    "version": 3
   },
   "file_extension": ".py",
   "mimetype": "text/x-python",
   "name": "python",
   "nbconvert_exporter": "python",
   "pygments_lexer": "ipython3",
   "version": "3.7.12"
  }
 },
 "nbformat": 4,
 "nbformat_minor": 5
}
